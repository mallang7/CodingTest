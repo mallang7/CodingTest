{
 "cells": [
  {
   "cell_type": "markdown",
   "metadata": {},
   "source": [
    "### 모의테스트"
   ]
  },
  {
   "cell_type": "code",
   "execution_count": 1,
   "metadata": {},
   "outputs": [
    {
     "name": "stdout",
     "output_type": "stream",
     "text": [
      "5 2\n",
      "12 3\n",
      "10 4\n",
      "10\n"
     ]
    }
   ],
   "source": [
    "N,M = map(int, input().split())\n",
    "\n",
    "# 최소값을 찾기위해서\n",
    "pmin, omin = 1000, 1000\n",
    "\n",
    "for _ in range(M):\n",
    "    p, o = map(int, input().split())\n",
    "    if p < pmin: pmin = p\n",
    "    if o < omin: omin = o\n",
    "\n",
    "# set price is higer than 6 goods\n",
    "if pmin > omin*6: pmin = omin*6\n",
    "q, r = N//6, N%6          # q, r = divmod(n, 6)\n",
    "price = q*pmin\n",
    "# set price is lower than r goods\n",
    "if pmin < omin*r: price += pmin\n",
    "else: price += omin*r\n",
    "print(price)\n"
   ]
  },
  {
   "cell_type": "code",
   "execution_count": 2,
   "metadata": {},
   "outputs": [
    {
     "name": "stdout",
     "output_type": "stream",
     "text": [
      "7 1 2 3 4 5 6 7\n",
      "1 2 3 4 5\n",
      "1 2 3 4 6\n",
      "1 2 3 4 7\n",
      "1 2 3 5 6\n",
      "1 2 3 5 7\n",
      "1 2 3 6 7\n",
      "1 2 4 5 6\n",
      "1 2 4 5 7\n",
      "1 2 4 6 7\n",
      "1 2 5 6 7\n",
      "1 3 4 5 6\n",
      "1 3 4 5 7\n",
      "1 3 4 6 7\n",
      "1 3 5 6 7\n",
      "1 4 5 6 7\n",
      "2 3 4 5 6\n",
      "2 3 4 5 7\n",
      "2 3 4 6 7\n",
      "2 3 5 6 7\n",
      "2 4 5 6 7\n",
      "3 4 5 6 7\n"
     ]
    }
   ],
   "source": [
    "from itertools import combinations\n",
    "\n",
    "v = input().split()\n",
    "\n",
    "for s in combinations(v[1:], 5):\n",
    "    print(\" \".join(s))\n"
   ]
  },
  {
   "cell_type": "code",
   "execution_count": 4,
   "metadata": {},
   "outputs": [
    {
     "name": "stdout",
     "output_type": "stream",
     "text": [
      "10 2 1\n",
      "4 5\n",
      "5 5\n"
     ]
    }
   ],
   "source": [
    "from itertools import combinations\n",
    "\n",
    "L, K, C = map(int, input().split())\n",
    "cuts = list(map(int,input().split()))\n",
    "cuts.sort()\n",
    "glongest =L\n",
    "gfirst=L\n",
    "for c in combinations(cuts,C):\n",
    "    longest = c[0]\n",
    "    first=c[0]\n",
    "    for i in range(C-1):\n",
    "        if c[i+1] - c[i] > longest: longest = c[i+1] - c[i]\n",
    "    if L-c[-1] > longest: longest = L-c[-1]\n",
    "    if glongest > longest:\n",
    "        glongest = longest\n",
    "        gfirst = first\n",
    "    elif glongest == longest and gfirst > first:\n",
    "            gfirst = first\n",
    "print(glongest, gfirst)"
   ]
  },
  {
   "cell_type": "code",
   "execution_count": 8,
   "metadata": {},
   "outputs": [
    {
     "name": "stdout",
     "output_type": "stream",
     "text": [
      "10 2 1\n",
      "4 5\n",
      "5 5\n"
     ]
    }
   ],
   "source": [
    "from bisect import bisect_left\n",
    "\n",
    "L, K, C = map(int, input().split())\n",
    "cuts = list(map(int,input().split()))\n",
    "cuts +=[0,L]\n",
    "cuts.sort()\n",
    "\n",
    "\n",
    "\n",
    "def isPass(cuts, longest, c):\n",
    "    cur = cuts[-1]\n",
    "    while c > 0:\n",
    "        f = cur - longest\n",
    "        if f <=0:\n",
    "            return True, cuts[1]\n",
    "        idx = bisect_left(cuts, f)\n",
    "        if cur == cuts[idx]: return False, 0\n",
    "        cur = cuts[idx]\n",
    "        c -= 1\n",
    "    if cur > longest: return False, 0\n",
    "    return True, cur\n",
    "\n",
    "left, right = 0, L\n",
    "firstCut = L\n",
    "\n",
    "while left+1 < right:\n",
    "    mid= (left + right) //2\n",
    "    r, fC = isPass(cuts, mid, C)\n",
    "    if r: \n",
    "        right = mid\n",
    "        firstCut = fC\n",
    "    else: left=mid\n",
    "print(right,firstCut)"
   ]
  },
  {
   "cell_type": "code",
   "execution_count": 6,
   "metadata": {},
   "outputs": [
    {
     "name": "stdout",
     "output_type": "stream",
     "text": [
      "6\n",
      "7 10\n",
      "28\n"
     ]
    }
   ],
   "source": [
    "#입국심사\n",
    "n=int(input())\n",
    "ofs = list(map(int,input().split()))\n",
    "\n",
    "#left는 Fail, right는 Pass\n",
    "left, right = 0, ofs[0]*n\n",
    "while left+1 < right:\n",
    "    mid = (left+right)//2\n",
    "    prs = 0\n",
    "    for o in ofs:\n",
    "        prs += mid //o\n",
    "    if prs >=n:\n",
    "        right = mid\n",
    "    else: left=mid\n",
    "print(right)"
   ]
  }
 ],
 "metadata": {
  "kernelspec": {
   "display_name": "Python 3",
   "language": "python",
   "name": "python3"
  },
  "language_info": {
   "codemirror_mode": {
    "name": "ipython",
    "version": 3
   },
   "file_extension": ".py",
   "mimetype": "text/x-python",
   "name": "python",
   "nbconvert_exporter": "python",
   "pygments_lexer": "ipython3",
   "version": "3.5.6"
  }
 },
 "nbformat": 4,
 "nbformat_minor": 4
}

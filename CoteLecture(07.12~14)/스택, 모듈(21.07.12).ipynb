{
 "cells": [
  {
   "cell_type": "code",
   "execution_count": 1,
   "metadata": {},
   "outputs": [
    {
     "name": "stdout",
     "output_type": "stream",
     "text": [
      "Enter the expression: 3 2 7 + *\n",
      "27.0\n"
     ]
    }
   ],
   "source": [
    "#후위 연산자 계산하기\n",
    "exprs=input(\"Enter the expression: \").split()\n",
    "\n",
    "#스택 생성\n",
    "stack=[]\n",
    "for e in exprs:\n",
    "    if e=='+' or e=='-' or e=='*' or e=='/':\n",
    "        opr2 = stack.pop()\n",
    "        opr1 = stack.pop()\n",
    "        if e == '+': r= opr1 + opr2\n",
    "        elif e == '-': r= opr1 - opr2\n",
    "        elif e == '*': r= opr1 * opr2\n",
    "        elif e == '/': r= opr1 / opr2\n",
    "        stack.append(r)\n",
    "\n",
    "    else:\n",
    "        stack.append(float(e))\n",
    "print(stack[0])"
   ]
  },
  {
   "cell_type": "code",
   "execution_count": null,
   "metadata": {},
   "outputs": [],
   "source": [
    "#가장 큰 숫자 구하기\n",
    "n, k = map(int,input().split())\n",
    "numbers=input()\n",
    "n -= k\n",
    "for c in numbers:\n",
    "    if len(stack)==0 or stack[-1] >= c:\n",
    "        stack.append(c)\n",
    "        continue\n",
    "    while len(stack) >0 and k>0 and stack[-1] < c:\n",
    "        stack.pop()\n",
    "        k -= 1\n",
    "    stack.append(c)\n",
    "print(''.join(stack[:n]))        "
   ]
  },
  {
   "cell_type": "code",
   "execution_count": 4,
   "metadata": {},
   "outputs": [
    {
     "name": "stdout",
     "output_type": "stream",
     "text": [
      "6 3\n",
      "3\n",
      "6\n",
      "4\n",
      "2\n",
      "5\n",
      "1\n"
     ]
    }
   ],
   "source": [
    "#요세푸스\n",
    "n, k =map(int,input().split())\n",
    "\n",
    "queue=[i for i in range(1, n+1)]\n",
    "while len(queue) > 0:\n",
    "    for _ in range(k-1):\n",
    "        queue.append(queue.pop(0))\n",
    "    print(queue.pop(0))"
   ]
  },
  {
   "cell_type": "markdown",
   "metadata": {},
   "source": [
    "###모듈"
   ]
  },
  {
   "cell_type": "code",
   "execution_count": 6,
   "metadata": {},
   "outputs": [
    {
     "name": "stdout",
     "output_type": "stream",
     "text": [
      "list=1 2 3\n",
      "k=2\n",
      "('1', '2')\n",
      "('1', '3')\n",
      "('2', '1')\n",
      "('2', '3')\n",
      "('3', '1')\n",
      "('3', '2')\n"
     ]
    }
   ],
   "source": [
    "#재귀함수로 순열 구하기\n",
    "# c: 현재 만들어진리스트의 수\n",
    "# k: 선택되는 전체 수\n",
    "# v: 소스\n",
    "# s : 현재까지의 결과\n",
    "def perm(c, k, v, s):\n",
    "    if c==k:\n",
    "        print(s)\n",
    "        return\n",
    "    for t in v:\n",
    "        if t in s: continue\n",
    "        perm(c+1,k,v,s+(t,))\n",
    "        \n",
    "v=input(\"list=\").split()\n",
    "k=int(input(\"k=\"))\n",
    "perm(0,k,v,tuple())\n",
    "    "
   ]
  },
  {
   "cell_type": "code",
   "execution_count": 7,
   "metadata": {},
   "outputs": [
    {
     "name": "stdout",
     "output_type": "stream",
     "text": [
      "list=1 2 3\n",
      "k=2\n",
      "('1', '2')\n",
      "('1', '3')\n",
      "('2', '1')\n",
      "('2', '3')\n",
      "('3', '1')\n",
      "('3', '2')\n"
     ]
    }
   ],
   "source": [
    "from itertools import permutations\n",
    "v=input(\"list=\").split()\n",
    "k=int(input(\"k=\"))\n",
    "for t in permutations(v,k):\n",
    "    print(t)"
   ]
  },
  {
   "cell_type": "code",
   "execution_count": 8,
   "metadata": {},
   "outputs": [
    {
     "name": "stdout",
     "output_type": "stream",
     "text": [
      "5\n",
      "2 3 5\n",
      "6\n"
     ]
    }
   ],
   "source": [
    "## 소수, 수\n",
    "n=int(input())\n",
    "primes = list(map(int, input().split()))\n",
    "\n",
    "s =2\n",
    "while True:\n",
    "    t =s\n",
    "    for p in primes:\n",
    "        while t%p ==0:\n",
    "            t //= p\n",
    "    if t ==1:\n",
    "        n -= 1\n",
    "        if n ==0: break\n",
    "    s += 1\n",
    "print(s)"
   ]
  },
  {
   "cell_type": "code",
   "execution_count": 10,
   "metadata": {},
   "outputs": [
    {
     "name": "stdout",
     "output_type": "stream",
     "text": [
      "99\n",
      "3 5 11\n",
      "825\n"
     ]
    }
   ],
   "source": [
    "from heapq import *\n",
    "n=int(input())\n",
    "primes = list(map(int, input().split()))\n",
    "\n",
    "heap = primes[:]\n",
    "heapify(heap)\n",
    "\n",
    "for _ in range(n-1):\n",
    "    s = heappop(heap)\n",
    "    for p in primes:\n",
    "        if \n",
    "        heappush(heap,p*s)\n",
    "print(heappop(heap))"
   ]
  },
  {
   "cell_type": "code",
   "execution_count": 11,
   "metadata": {},
   "outputs": [
    {
     "name": "stdout",
     "output_type": "stream",
     "text": [
      "1 2 1 3 1 5\n",
      "4\n"
     ]
    }
   ],
   "source": [
    "# 가장 긴 길이의 증가하는 부분 수열\n",
    "v = list(map(int,input().split()))\n",
    "t=[0]*len((v))\n",
    "\n",
    "for i in range(len(v)):\n",
    "    mv =0\n",
    "    for j in range(i):\n",
    "        if v[j] < v[i]:\n",
    "            mv = max(mv,t[j])\n",
    "    t[i]=mv+1\n",
    "    \n",
    "print(max(t))"
   ]
  },
  {
   "cell_type": "code",
   "execution_count": 13,
   "metadata": {},
   "outputs": [
    {
     "name": "stdout",
     "output_type": "stream",
     "text": [
      "1 2 1 3 1 5\n",
      "4\n"
     ]
    }
   ],
   "source": [
    "# bisect 이용\n",
    "v = list(map(int,input().split()))\n",
    "t=[0]*len((v))\n",
    "\n",
    "from bisect import bisect_left\n",
    "\n",
    "t=[]\n",
    "for i in range(len(v)):\n",
    "    if len(t) == 0 or t[-1] < v[i]: t.append(v[i])\n",
    "    else:\n",
    "        idx = bisect_left(t,v[i])\n",
    "        t[idx] = v[i]\n",
    "        \n",
    "print(len(t))"
   ]
  }
 ],
 "metadata": {
  "kernelspec": {
   "display_name": "Python 3",
   "language": "python",
   "name": "python3"
  },
  "language_info": {
   "codemirror_mode": {
    "name": "ipython",
    "version": 3
   },
   "file_extension": ".py",
   "mimetype": "text/x-python",
   "name": "python",
   "nbconvert_exporter": "python",
   "pygments_lexer": "ipython3",
   "version": "3.5.6"
  }
 },
 "nbformat": 4,
 "nbformat_minor": 4
}
